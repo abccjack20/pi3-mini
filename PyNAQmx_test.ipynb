{
 "cells": [
  {
   "cell_type": "code",
   "execution_count": null,
   "metadata": {},
   "outputs": [],
   "source": [
    "import PyDAQmx as dll\n",
    "import numpy as np\n",
    "import ctypes\n",
    "\n",
    "DAQmx_Val_Cfg_Default             = ctypes.c_int32(-1)\n",
    "DAQmx_Val_DoNotInvertPolarity     = ctypes.c_int32(0)\n",
    "DAQmx_Val_GroupByChannel          = ctypes.c_int32(0)\n",
    "DAQmx_Val_GroupByScanNumber       = ctypes.c_int32(1)\n",
    "DAQmx_Val_ChanPerLine             = ctypes.c_int32(0)\n",
    "DAQmx_Val_ChanForAllLines         = ctypes.c_int32(1)\n",
    "DAQmx_Val_Acquired_Into_Buffer    = ctypes.c_int32(1)\n",
    "DAQmx_Val_Ticks                   = ctypes.c_int32(10304)\n",
    "DAQmx_Val_Rising                  = ctypes.c_int32(10280)\n",
    "DAQmx_Val_Falling                 = ctypes.c_int32(10171)\n",
    "DAQmx_Val_CountUp                 = ctypes.c_int32(10128)\n",
    "DAQmx_Val_ContSamps               = ctypes.c_int32(10123)\n",
    "DAQmx_Val_FiniteSamps             = ctypes.c_int32(10178)\n",
    "DAQmx_Val_Hz                      = ctypes.c_int32(10373)\n",
    "DAQmx_Val_Low                     = ctypes.c_int32(10214)\n",
    "DAQmx_Val_Volts                   = ctypes.c_int32(10348)\n",
    "DAQmx_Val_MostRecentSamp          = ctypes.c_uint32(10428)\n",
    "DAQmx_Val_OverwriteUnreadSamps    = ctypes.c_uint32(10252)\n",
    "DAQmx_Val_HWTimedSinglePoint      = ctypes.c_int32(12522)\n",
    "DAQmx_Val_SampClk                 = ctypes.c_int32(10388)\n",
    "DAQmx_Val_OnDemand                = ctypes.c_int32(10390)\n",
    "DAQmx_Val_CurrReadPos             = ctypes.c_int32(10425)\n",
    "DAQmx_Val_MostRecentSamp          = ctypes.c_int32(10428)\n",
    "DAQmx_Val_OverwriteUnreadSamps    = ctypes.c_int32(10252)\n",
    "DAQmx_Val_DoNotOverwriteUnreadSamps  = ctypes.c_int32(10159)"
   ]
  },
  {
   "cell_type": "code",
   "execution_count": null,
   "metadata": {},
   "outputs": [
    {
     "data": {
      "text/plain": [
       "0"
      ]
     },
     "execution_count": 2,
     "metadata": {},
     "output_type": "execute_result"
    }
   ],
   "source": [
    "CODevice_id = '/Dev2/Ctr0'\n",
    "#CIDevice_id = '/Dev2/Ctr1'\n",
    "\n",
    "COTask = dll.TaskHandle()\n",
    "\n",
    "# Create taskHandle\n",
    "dll.DAQmxCreateTask('', ctypes.byref(COTask))\n",
    "\n",
    "period = 0.01   # seconds\n",
    "f = 1/period\n",
    "DutyCycle = 0.9\n",
    "\n",
    "# Creates channel(s) to generate digital pulses that freq and dutyCycle define,\n",
    "# and adds the channel to the task you specify with taskHandle.\n",
    "dll.DAQmxCreateCOPulseChanFreq(\n",
    "    COTask,                         # taskHandle\n",
    "\tCODevice_id,                    # Counter name\n",
    "    '',                             # Channel name, physical channel name being used if left empty\n",
    "    DAQmx_Val_Hz,                   # The amount of time in seconds to wait before generating the first pulse\n",
    "    DAQmx_Val_Low,                  # The resting state of the output terminal.\n",
    "    ctypes.c_double(0),             # initialDelay\n",
    "    ctypes.c_double(f),             # The frequency at which to generate pulses.\n",
    "\tctypes.c_double(DutyCycle)      # High time / (High time + Low time)\n",
    ")\n",
    "\n",
    "N = 10\n",
    "\n",
    "# Sets only the number of samples to acquire or generate without specifying timing.\n",
    "# Typically, you should use this function when the task does not require sample timing,\n",
    "# such as tasks that use counters for buffered frequency measurement, buffered period\n",
    "# measurement, or pulse train generation.\n",
    "dll.DAQmxCfgImplicitTiming(\n",
    "    COTask,                         # taskHandle\n",
    "    DAQmx_Val_FiniteSamps,          # Specifies whether the task acquires or generates samples continuously,\n",
    "                                    # or if it acquires or generates a finite number of samples.\n",
    "    ctypes.c_ulonglong(N)           # The number of samples to acquire or generate for each channel in the task\n",
    "                                    # if sampleMode is DAQmx_Val_FiniteSamps.\n",
    "                                    # If sampleMode is DAQmx_Val_ContSamps, NI-DAQmx uses this value to determine\n",
    "                                    # the buffer size.\n",
    ")"
   ]
  },
  {
   "cell_type": "code",
   "execution_count": null,
   "metadata": {},
   "outputs": [
    {
     "data": {
      "text/plain": [
       "0"
      ]
     },
     "execution_count": 48,
     "metadata": {},
     "output_type": "execute_result"
    }
   ],
   "source": [
    "AOChannels = '/Dev2/ao0'\n",
    "AOTask = dll.TaskHandle()\n",
    "dll.DAQmxCreateTask('', ctypes.byref(AOTask))\n",
    "v_min = 0\n",
    "v_max = 5\n",
    "PulseTrain_src = CODevice_id + 'InternalOutput'\n",
    "\n",
    "# Creates channel(s) to generate voltage,\n",
    "# and adds the channel(s) to the task you specify with taskHandle.\n",
    "dll.DAQmxCreateAOVoltageChan(\n",
    "    AOTask,                     # taskHandle\n",
    "\tAOChannels,                 # The names of the physical channels to use to create virtual channels.\n",
    "                                # You can specify a list or range of physical channels.\n",
    "    '',                         # The name(s) to assign to the created virtual channel(s)\n",
    "\tctypes.c_double(v_min),     # The minimum value, in units\n",
    "\tctypes.c_double(v_max),     # The maximum value, in units\n",
    "\tDAQmx_Val_Volts,            # The units in which to generate voltage\n",
    "    ''                          # customScaleName\n",
    ")\n",
    "\n",
    "# Sets the source of the Sample Clock, the rate of the Sample Clock,\n",
    "# and the number of samples to acquire or generate.\n",
    "dll.DAQmxCfgSampClkTiming(\n",
    "    AOTask,                     # taskHandle\n",
    "\tPulseTrain_src,\t\t\t\t# The source terminal of the Sample Clock.\n",
    "    \t\t\t\t\t\t\t# To use the internal clock of the device, use NULL or use OnboardClock.\n",
    "\tctypes.c_double(f),\t\t\t# The sampling rate in samples per second per channel.\n",
    "\tDAQmx_Val_Falling,\t\t\t# Specifies on which edge of the clock to acquire or generate samples.\n",
    "    DAQmx_Val_FiniteSamps,\t\t# Specifies whether the task acquires or generates samples continuously\n",
    "    \t\t\t\t\t\t\t# or if it acquires or generates a finite number of samples.\n",
    "\tctypes.c_ulonglong(N)\t\t# The number of samples to acquire or generate for each channel in the\n",
    "    \t\t\t\t\t\t\t# task if sampleMode is DAQmx_Val_FiniteSamps. \n",
    ")\n",
    "\n",
    "autoStart \t= False\n",
    "RWTimeout \t= 1.0\n",
    "data\t\t= np.linspace(v_min, v_max, N)\n",
    "AONwritten  = ctypes.c_int32()\n",
    "\n",
    "dll.DAQmxWriteAnalogF64(\n",
    "    AOTask,\n",
    "\tN,\n",
    "\tautoStart,\n",
    "\tRWTimeout,\n",
    "\tDAQmx_Val_GroupByChannel,\t# Specifies how the samples are arranged\n",
    "\tdata,\n",
    "\tdll.byref(AONwritten), \n",
    "\tNone\n",
    ")\n",
    "print(AONwritten)"
   ]
  },
  {
   "cell_type": "code",
   "execution_count": 7,
   "metadata": {},
   "outputs": [
    {
     "data": {
      "text/plain": [
       "0"
      ]
     },
     "execution_count": 7,
     "metadata": {},
     "output_type": "execute_result"
    }
   ],
   "source": [
    "dll.DAQmxStartTask(COTask)"
   ]
  },
  {
   "cell_type": "code",
   "execution_count": 8,
   "metadata": {},
   "outputs": [
    {
     "data": {
      "text/plain": [
       "0"
      ]
     },
     "execution_count": 8,
     "metadata": {},
     "output_type": "execute_result"
    }
   ],
   "source": [
    "dll.DAQmxStopTask(COTask)"
   ]
  }
 ],
 "metadata": {
  "kernelspec": {
   "display_name": "pi3-test",
   "language": "python",
   "name": "python3"
  },
  "language_info": {
   "codemirror_mode": {
    "name": "ipython",
    "version": 3
   },
   "file_extension": ".py",
   "mimetype": "text/x-python",
   "name": "python",
   "nbconvert_exporter": "python",
   "pygments_lexer": "ipython3",
   "version": "3.11.11"
  }
 },
 "nbformat": 4,
 "nbformat_minor": 2
}
