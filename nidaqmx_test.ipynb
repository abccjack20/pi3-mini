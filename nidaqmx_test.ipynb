{
 "cells": [
  {
   "cell_type": "code",
   "execution_count": 1,
   "metadata": {},
   "outputs": [],
   "source": [
    "import nidaqmx as ni\n",
    "import numpy as np"
   ]
  },
  {
   "cell_type": "code",
   "execution_count": 2,
   "metadata": {},
   "outputs": [],
   "source": [
    "def is_device_available(device_name):\n",
    "    avail_device_names = ni.system.System().devices.device_names\n",
    "    return device_name in set(dev.lower() for dev in avail_device_names)\n",
    "\n",
    "def is_counter_available(device_handle, counter_name):\n",
    "    avail_counter_names = [\n",
    "        ctr.split('/')[-1] for ctr in device_handle.co_physical_chans.channel_names\n",
    "    ]\n",
    "    return counter_name in avail_counter_names\n",
    "\n",
    "def is_ai_term_available(device_handle, term_name):\n",
    "    avail_ai_term_names = [\n",
    "        term.rsplit('/', 1)[-1].lower() for term in device_handle.ai_physical_chans.channel_names\n",
    "    ]\n",
    "    return term_name in avail_ai_term_names\n",
    "\n",
    "def is_ao_term_available(device_handle, term_name):\n",
    "    avail_ao_term_names = [\n",
    "        term.rsplit('/', 1)[-1].lower() for term in device_handle.ao_physical_chans.channel_names\n",
    "    ]\n",
    "    return term_name in avail_ao_term_names\n",
    "\n",
    "def is_pfi_term_available(device_handle, term_name):\n",
    "    avail_pfi_term_names = [\n",
    "        term.rsplit('/', 1)[-1].lower() for term in device_handle.terminals if 'PFI' in term\n",
    "    ]\n",
    "    return term_name in avail_pfi_term_names\n"
   ]
  },
  {
   "cell_type": "code",
   "execution_count": null,
   "metadata": {},
   "outputs": [],
   "source": [
    "class ni_tasks_manager:\n",
    "\n",
    "    tasks_dict = dict()\n",
    "    \n",
    "    def create_task(task_name):\n",
    "        TD = ni_tasks_manager.tasks_dict\n",
    "        if task_name in TD.keys():\n",
    "            raise Exception(f'{task_name} has already benn created!')\n",
    "        \n",
    "        try:\n",
    "            task = ni.Task(task_name)\n",
    "        except:\n",
    "            raise Exception(f'Fail to create task named {task_name}.')\n",
    "        TD[task_name] = task        \n",
    "        return task\n",
    "\n",
    "    def remove_task(name=None, task=None):\n",
    "        TD = ni_tasks_manager.tasks_dict\n",
    "        if task:\n",
    "            if not task in TD.values():\n",
    "                raise Exception('Fail to find {task} from our record!')\n",
    "            for k, t in TD.items():\n",
    "                if id(task) == id(t):\n",
    "                    name = k\n",
    "                    break\n",
    "        if name:\n",
    "            try:\n",
    "                task = TD.pop(name)\n",
    "                try:\n",
    "                    if not task.is_task_done():\n",
    "                        task.stop()\n",
    "                    task.close()\n",
    "                    del task\n",
    "                except ni.DaqError:\n",
    "                    print('Fail to delete task {name}')\n",
    "            except:\n",
    "                raise Exception('Fail to remove task {name}')\n",
    "        else:\n",
    "            print('Specify which task to be removed.')\n",
    "\n",
    "    def is_name_exist(task_name):\n",
    "        return task_name in ni_tasks_manager.tasks_name_list.keys()\n",
    "    \n",
    "    def is_task_exist(task):\n",
    "        return id(task) in [id(t) for t in ni_tasks_manager.values()]\n"
   ]
  },
  {
   "cell_type": "code",
   "execution_count": 24,
   "metadata": {},
   "outputs": [],
   "source": [
    "device_name = 'dev2'\n",
    "\n",
    "if not is_device_available(device_name):\n",
    "    print(f'{device_name} is not available!')\n",
    "\n",
    "device_handle = ni.system.Device(device_name)"
   ]
  },
  {
   "cell_type": "code",
   "execution_count": null,
   "metadata": {},
   "outputs": [],
   "source": [
    "class sample_clock:\n",
    "\n",
    "    def __init__(self, device_name, counter_name, period=0.01, duty_cycle=0.9, frame_size=None):\n",
    "        self.device_name = device_name\n",
    "        self.counter_name = counter_name\n",
    "        self.source = f'/{self.device_name}/{self.counter_name}'\n",
    "        self.period = period\n",
    "        self.duty_cycle = duty_cycle\n",
    "        self.frame_size = frame_size\n",
    "        self.mode = ni.constants.AcquisitionType.FINITE if self.frame_size else ni.constants.AcquisitionType.CONTINUOUS\n",
    "        self.task = None\n",
    "\n",
    "    @property\n",
    "    def sample_rate(self):\n",
    "        return 1/self.period\n",
    "    \n",
    "    @sample_rate.setter\n",
    "    def sample_rate(self, rate):\n",
    "        self.period = 1/rate\n",
    "\n",
    "    def init_task(self):\n",
    "        self.task = ni_tasks_manager.create_task(f'clock{id(self)}')\n",
    "        self.task.co_channels.add_co_pulse_chan_freq(\n",
    "            self.source,\n",
    "            idle_state=ni.constants.Level.LOW,\n",
    "            freq=self.sample_rate,\n",
    "            duty_cycle=self.duty_cycle,\n",
    "        )\n",
    "        self.task.timing.cfg_implicit_timing(\n",
    "            sample_mode=self.mode, samps_per_chan=self.frame_size,\n",
    "        )\n",
    "\n",
    "    def clear_task(self):\n",
    "        if self.task:\n",
    "            ni_tasks_manager.remove_task(task=self.task)\n",
    "            del self.task\n",
    "    "
   ]
  },
  {
   "cell_type": "code",
   "execution_count": 121,
   "metadata": {},
   "outputs": [],
   "source": [
    "device_name = 'dev2'\n",
    "counter_name = 'ctr0'\n",
    "\n",
    "period = 0.01   # seconds\n",
    "sample_rate = 1/period\n",
    "DutyCycle = 0.9\n",
    "frame_size = 10\n",
    "\n",
    "# print()\n",
    "# task_clk.co_channels.add_co_pulse_chan_freq(\n",
    "#     f'/{device_name}/{counter_name}',\n",
    "#     idle_state=ni.constants.Level.LOW,\n",
    "#     freq=sample_rate,\n",
    "#     duty_cycle=DutyCycle,\n",
    "# )\n",
    "# task_clk.timing.cfg_implicit_timing(\n",
    "#     sample_mode=ni.constants.AcquisitionType.FINITE,\n",
    "#     samps_per_chan=frame_size,\n",
    "# )"
   ]
  },
  {
   "cell_type": "code",
   "execution_count": 134,
   "metadata": {},
   "outputs": [],
   "source": [
    "clk = sample_clock(device_name, counter_name, period=0.01, frame_size=10, duty_cycle=0.9)\n",
    "clk.init_task()"
   ]
  },
  {
   "cell_type": "code",
   "execution_count": 138,
   "metadata": {},
   "outputs": [
    {
     "data": {
      "text/plain": [
       "Task(name=clock1666340143056)"
      ]
     },
     "execution_count": 138,
     "metadata": {},
     "output_type": "execute_result"
    }
   ],
   "source": [
    "clk.task"
   ]
  },
  {
   "cell_type": "code",
   "execution_count": 137,
   "metadata": {},
   "outputs": [
    {
     "data": {
      "text/plain": [
       "{}"
      ]
     },
     "execution_count": 137,
     "metadata": {},
     "output_type": "execute_result"
    }
   ],
   "source": [
    "ni_tasks_manager.tasks_dict"
   ]
  },
  {
   "cell_type": "code",
   "execution_count": 107,
   "metadata": {},
   "outputs": [],
   "source": [
    "task_clk.stop()"
   ]
  },
  {
   "cell_type": "code",
   "execution_count": 106,
   "metadata": {},
   "outputs": [],
   "source": [
    "task_clk.control(ni.constants.TaskMode.TASK_COMMIT)"
   ]
  },
  {
   "cell_type": "code",
   "execution_count": null,
   "metadata": {},
   "outputs": [],
   "source": []
  }
 ],
 "metadata": {
  "kernelspec": {
   "display_name": "pi3",
   "language": "python",
   "name": "python3"
  },
  "language_info": {
   "codemirror_mode": {
    "name": "ipython",
    "version": 3
   },
   "file_extension": ".py",
   "mimetype": "text/x-python",
   "name": "python",
   "nbconvert_exporter": "python",
   "pygments_lexer": "ipython3",
   "version": "3.11.11"
  }
 },
 "nbformat": 4,
 "nbformat_minor": 2
}
