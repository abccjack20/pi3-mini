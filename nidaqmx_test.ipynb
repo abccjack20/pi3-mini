{
 "cells": [
  {
   "cell_type": "code",
   "execution_count": 1,
   "metadata": {},
   "outputs": [],
   "source": [
    "import nidaqmx as ni\n",
    "import numpy as np"
   ]
  },
  {
   "cell_type": "code",
   "execution_count": 2,
   "metadata": {},
   "outputs": [],
   "source": [
    "def is_device_available(device_name):\n",
    "    avail_device_names = ni.system.System().devices.device_names\n",
    "    return device_name in set(dev.lower() for dev in avail_device_names)\n",
    "\n",
    "def is_counter_available(device_handle, counter_name):\n",
    "    avail_counter_names = [\n",
    "        ctr.split('/')[-1] for ctr in device_handle.co_physical_chans.channel_names\n",
    "    ]\n",
    "    return counter_name in avail_counter_names\n",
    "\n",
    "def is_ai_term_available(device_handle, term_name):\n",
    "    avail_ai_term_names = [\n",
    "        term.rsplit('/', 1)[-1].lower() for term in device_handle.ai_physical_chans.channel_names\n",
    "    ]\n",
    "    return term_name in avail_ai_term_names\n",
    "\n",
    "def is_ao_term_available(device_handle, term_name):\n",
    "    avail_ao_term_names = [\n",
    "        term.rsplit('/', 1)[-1].lower() for term in device_handle.ao_physical_chans.channel_names\n",
    "    ]\n",
    "    return term_name in avail_ao_term_names\n",
    "\n",
    "def is_pfi_term_available(device_handle, term_name):\n",
    "    avail_pfi_term_names = [\n",
    "        term.rsplit('/', 1)[-1].lower() for term in device_handle.terminals if 'PFI' in term\n",
    "    ]\n",
    "    return term_name in avail_pfi_term_names\n"
   ]
  },
  {
   "cell_type": "code",
   "execution_count": null,
   "metadata": {},
   "outputs": [],
   "source": [
    "class ni_tasks_manager:\n",
    "\n",
    "    tasks_dict = dict()\n",
    "    \n",
    "    def create_task(task_name):\n",
    "        TD = ni_tasks_manager.tasks_dict\n",
    "        if task_name in TD.keys():\n",
    "            raise Exception(f'{task_name} has already benn created!')\n",
    "        \n",
    "        try:\n",
    "            task = ni.Task(task_name)\n",
    "        except:\n",
    "            raise Exception(f'Fail to create task named {task_name}.')\n",
    "        TD[task_name] = task        \n",
    "        return task\n",
    "\n",
    "    def remove_task(name=None, task=None):\n",
    "        TD = ni_tasks_manager.tasks_dict\n",
    "        if task:\n",
    "            if not task in TD.values():\n",
    "                raise Exception('Fail to find {task} from our record!')\n",
    "            for k, t in TD.items():\n",
    "                if id(task) == id(t):\n",
    "                    name = k\n",
    "                    break\n",
    "        if name:\n",
    "            try:\n",
    "                task = TD.pop(name)\n",
    "                try:\n",
    "                    if not task.is_task_done():\n",
    "                        task.stop()\n",
    "                    task.close()\n",
    "                    del task\n",
    "                except ni.DaqError:\n",
    "                    print('Fail to delete task {name}')\n",
    "            except:\n",
    "                raise Exception('Fail to remove task {name}')\n",
    "        else:\n",
    "            print('Specify which task to be removed.')\n",
    "\n",
    "    def is_name_exist(task_name):\n",
    "        return task_name in ni_tasks_manager.tasks_name_list.keys()\n",
    "    \n",
    "    def is_task_exist(task):\n",
    "        return id(task) in [id(t) for t in ni_tasks_manager.values()]\n"
   ]
  },
  {
   "cell_type": "code",
   "execution_count": 2,
   "metadata": {},
   "outputs": [],
   "source": [
    "from hardware.nidaq import sample_clock, analog_output_constant, analog_output_sweeper"
   ]
  },
  {
   "cell_type": "code",
   "execution_count": 3,
   "metadata": {},
   "outputs": [],
   "source": [
    "device_name = 'dev2'\n",
    "counter_name = 'ctr0'\n",
    "ao_channels = ['ao0', 'ao1']\n",
    "\n",
    "voltage_range = [\n",
    "    [0., 10.],     # ao0\n",
    "    [0., 10.],     # ao1\n",
    "]\n",
    "\n",
    "period = 0.01   # seconds\n",
    "sample_rate = 1/period\n",
    "DutyCycle = 0.9\n",
    "frame_size = 10\n",
    "\n",
    "clk = sample_clock(device_name, counter_name)\n",
    "clk.prepare_task()\n",
    "\n"
   ]
  },
  {
   "cell_type": "code",
   "execution_count": 4,
   "metadata": {},
   "outputs": [],
   "source": [
    "clk.samps_per_chan = 11"
   ]
  },
  {
   "cell_type": "code",
   "execution_count": 5,
   "metadata": {},
   "outputs": [],
   "source": [
    "ao_sweep = analog_output_sweeper(\n",
    "    device_name, ao_channels, voltage_range,\n",
    "    clk, use_falling=True\n",
    ")\n",
    "ao_sweep.prepare_task()"
   ]
  },
  {
   "cell_type": "code",
   "execution_count": 8,
   "metadata": {},
   "outputs": [],
   "source": [
    "clk.samps_per_chan = None\n",
    "clk.update_task()"
   ]
  },
  {
   "cell_type": "code",
   "execution_count": 9,
   "metadata": {},
   "outputs": [
    {
     "data": {
      "text/plain": [
       "<AcquisitionType.CONTINUOUS: 10123>"
      ]
     },
     "execution_count": 9,
     "metadata": {},
     "output_type": "execute_result"
    }
   ],
   "source": [
    "#ao_sweep.task.timing.samp_timing_type #= ni.constants.SampleTimingType.ON_DEMAND\n",
    "clk.task.timing.samp_quant_samp_mode"
   ]
  },
  {
   "cell_type": "code",
   "execution_count": 11,
   "metadata": {},
   "outputs": [],
   "source": [
    "ao_sweep.start()\n",
    "clk.start()\n"
   ]
  },
  {
   "cell_type": "code",
   "execution_count": 8,
   "metadata": {},
   "outputs": [
    {
     "data": {
      "text/plain": [
       "True"
      ]
     },
     "execution_count": 8,
     "metadata": {},
     "output_type": "execute_result"
    }
   ],
   "source": [
    "clk.task.is_task_done()"
   ]
  },
  {
   "cell_type": "code",
   "execution_count": 11,
   "metadata": {},
   "outputs": [],
   "source": [
    "clk.clear_task()\n"
   ]
  },
  {
   "cell_type": "code",
   "execution_count": null,
   "metadata": {},
   "outputs": [],
   "source": []
  }
 ],
 "metadata": {
  "kernelspec": {
   "display_name": "pi3",
   "language": "python",
   "name": "python3"
  },
  "language_info": {
   "codemirror_mode": {
    "name": "ipython",
    "version": 3
   },
   "file_extension": ".py",
   "mimetype": "text/x-python",
   "name": "python",
   "nbconvert_exporter": "python",
   "pygments_lexer": "ipython3",
   "version": "3.11.11"
  }
 },
 "nbformat": 4,
 "nbformat_minor": 2
}
