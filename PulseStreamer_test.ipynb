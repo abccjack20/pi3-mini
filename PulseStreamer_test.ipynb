{
 "cells": [
  {
   "cell_type": "code",
   "execution_count": null,
   "metadata": {},
   "outputs": [],
   "source": [
    "import pulsestreamer as ps\n",
    "import numpy as np"
   ]
  },
  {
   "cell_type": "code",
   "execution_count": null,
   "metadata": {},
   "outputs": [
    {
     "name": "stdout",
     "output_type": "stream",
     "text": [
      "Connect to Pulse Streamer via JSON-RPC.\n",
      "IP / Hostname: 169.254.8.2\n",
      "Pulse Streamer 8/2 firmware: v1.7.2\n",
      "Client software: v1.7.0\n"
     ]
    }
   ],
   "source": [
    "ip = '169.254.8.2'\n",
    "pulse_streamer = ps.PulseStreamer(ip)\n",
    "pulse_streamer.selectClock(ps.ClockSource.INTERNAL)"
   ]
  },
  {
   "cell_type": "markdown",
   "metadata": {},
   "source": [
    "### Convert Pi3 format to PulseStreamer format"
   ]
  },
  {
   "cell_type": "code",
   "execution_count": 33,
   "metadata": {},
   "outputs": [
    {
     "name": "stdout",
     "output_type": "stream",
     "text": [
      "(['sync'], 100.0)\n",
      "([], 1000.0)\n",
      "(['mw'], 0.0)\n",
      "([], 1050.0)\n",
      "(['aom', 'detect'], 1000.0)\n",
      "([], 1000.0)\n",
      "(['mw'], 10.0)\n",
      "([], 1040.0)\n",
      "(['aom', 'detect'], 1000.0)\n",
      "([], 1000.0)\n"
     ]
    }
   ],
   "source": [
    "# Typical Rabi sequence in Pi3diamond format\n",
    "channel_map = {\n",
    "    'aom':0, \n",
    "    'detect':1,\n",
    "    'sync':2,\n",
    "    'mw':3,\n",
    "}\n",
    "\n",
    "sync_time   = 100.\n",
    "wait        = 1000.\n",
    "laser_time  = 1000.\n",
    "tau_start   = 0.\n",
    "tau_delta   = 100.\n",
    "num_inc     = 10.\n",
    "tau_end     = tau_start + num_inc*tau_delta + tau_delta/2.\n",
    "tau_list = np.arange(tau_start, tau_end, num_inc)\n",
    "\n",
    "sequence = [(['sync'], sync_time)]\n",
    "for t in tau_list:\n",
    "    sequence += [([],wait), (['mw'],t), ([],tau_end - t), (['aom','detect'], laser_time)]\n",
    "\n",
    "for p in sequence[:10]: print(p)"
   ]
  },
  {
   "cell_type": "code",
   "execution_count": 34,
   "metadata": {},
   "outputs": [],
   "source": [
    "# Convert it to pulsestreamer format\n",
    "pattens_by_channels = dict()\n",
    "for ch_name in channel_map.keys(): pattens_by_channels[ch_name] = []\n",
    "\n",
    "time_stamp = 0\n",
    "min_timestep = 1.\n",
    "for ch_high, duration in sequence:\n",
    "    if duration < min_timestep: continue\n",
    "    for ch_name, ch in channel_map.items():\n",
    "        output = 1 if ch_name in ch_high else 0\n",
    "        pattens_by_channels[ch_name].append((duration, output))"
   ]
  },
  {
   "cell_type": "code",
   "execution_count": null,
   "metadata": {},
   "outputs": [],
   "source": [
    "seq = pulse_streamer.createSequence()\n",
    "\n",
    "for ch_name, patt in pattens_by_channels.items():\n",
    "    print(\"%d %6s\"%(channel_map[ch_name], ch_name), patt[:10])\n",
    "    seq.setDigital(channel_map[ch_name], patt)"
   ]
  },
  {
   "cell_type": "code",
   "execution_count": null,
   "metadata": {},
   "outputs": [],
   "source": [
    "pulse_streamer.stream(seq)  # Start"
   ]
  },
  {
   "cell_type": "code",
   "execution_count": null,
   "metadata": {},
   "outputs": [],
   "source": [
    "pulse_streamer.reset() # Stop"
   ]
  },
  {
   "cell_type": "markdown",
   "metadata": {},
   "source": [
    "### Simple demo on how to create, start and stop a pulse sequence"
   ]
  },
  {
   "cell_type": "code",
   "execution_count": 10,
   "metadata": {},
   "outputs": [],
   "source": [
    "pulse_patt1 = [(100, 0), (200, 1), (80, 0), (300, 1), (10140, 0)]\n",
    "pulse_patt2 = [(120, 0), (220, 1), (100, 0), (320, 1), (10060, 0)]\n",
    "seq = pulse_streamer.createSequence()\n",
    "seq.setDigital(1, pulse_patt1)\n",
    "seq.setDigital(2, pulse_patt2)\n",
    "pulse_streamer.stream(seq)"
   ]
  },
  {
   "cell_type": "code",
   "execution_count": 11,
   "metadata": {},
   "outputs": [
    {
     "data": {
      "text/plain": [
       "0"
      ]
     },
     "execution_count": 11,
     "metadata": {},
     "output_type": "execute_result"
    }
   ],
   "source": [
    "pulse_streamer.reset()"
   ]
  }
 ],
 "metadata": {
  "kernelspec": {
   "display_name": "pi3",
   "language": "python",
   "name": "python3"
  },
  "language_info": {
   "codemirror_mode": {
    "name": "ipython",
    "version": 3
   },
   "file_extension": ".py",
   "mimetype": "text/x-python",
   "name": "python",
   "nbconvert_exporter": "python",
   "pygments_lexer": "ipython3",
   "version": "3.11.11"
  }
 },
 "nbformat": 4,
 "nbformat_minor": 2
}
