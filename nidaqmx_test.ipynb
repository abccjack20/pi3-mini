{
 "cells": [
  {
   "cell_type": "code",
   "execution_count": null,
   "metadata": {},
   "outputs": [],
   "source": [
    "import nidaqmx as ni\n",
    "import numpy as np\n",
    "from hardware.nidaq import sample_clock, analog_output_sweeper\n",
    "from hardware.nidaq_finite_scanner import piezostage_controller_aom"
   ]
  },
  {
   "cell_type": "code",
   "execution_count": 2,
   "metadata": {},
   "outputs": [],
   "source": [
    "device_name = 'dev2'\n",
    "counter_name = 'ctr0'\n",
    "ao_channels = ['ao0', 'ao1', 'ao2', 'ao3']\n",
    "\n",
    "voltage_range = [\n",
    "    [0., 1.],       # ao0\n",
    "    [0., 1.],       # ao1\n",
    "    [0., 1.],       # ao2\n",
    "    [0., 1.],       # ao3\n",
    "]\n",
    "\n",
    "period = 0.01   # seconds\n",
    "sample_rate = 1/period\n",
    "DutyCycle = 0.9\n",
    "frame_size = 10\n",
    "\n",
    "clk = sample_clock(\n",
    "    device_name, counter_name, samps_per_chan=frame_size\n",
    ")\n",
    "clk.prepare_task()\n",
    "\n",
    "ao_sweep = analog_output_sweeper(\n",
    "    device_name, ao_channels, voltage_range,\n",
    "    clk, use_falling=True\n",
    ")\n",
    "ao_sweep.prepare_task()\n",
    "\n",
    "from hardware.time_tagger_swabian import time_tagger_control\n",
    "time_tagger = time_tagger_control(\"1740000JEJ\", 1, 5, 8, ch_marker=2)"
   ]
  },
  {
   "cell_type": "code",
   "execution_count": null,
   "metadata": {},
   "outputs": [
    {
     "name": "stdout",
     "output_type": "stream",
     "text": [
      "(4, 1) (4, 1) (4, 1)\n",
      "[[0.5]\n",
      " [0.5]\n",
      " [0.5]\n",
      " [0.5]]\n"
     ]
    }
   ],
   "source": [
    "params_dict = dict(\n",
    "    x_range=(-100.0,100.0),\n",
    "    y_range=(-100.0,100.0),\n",
    "    z_range=(0,100.0),\n",
    "    aom_range=(-10,10),\n",
    "    invert_x=False,\n",
    "    invert_y=False,\n",
    "    invert_z=False,\n",
    "    swap_xy=False,\n",
    ")\n",
    "stage = piezostage_controller_aom(\n",
    "    ao_sweep, clk, time_tagger, **params_dict\n",
    ")"
   ]
  },
  {
   "cell_type": "code",
   "execution_count": 7,
   "metadata": {},
   "outputs": [
    {
     "name": "stdout",
     "output_type": "stream",
     "text": [
      "(4, 1) (4, 1) (4, 6)\n",
      "[[0.5  0.55 0.6  0.65 0.7  0.75]\n",
      " [0.5  0.5  0.5  0.5  0.5  0.5 ]\n",
      " [0.5  0.5  0.5  0.5  0.5  0.5 ]\n",
      " [0.5  0.5  0.5  0.5  0.5  0.5 ]]\n",
      "(4, 1) (4, 1) (4, 1)\n",
      "[[0.5]\n",
      " [0.5]\n",
      " [0.5]\n",
      " [0.5]]\n"
     ]
    },
    {
     "data": {
      "text/plain": [
       "array([810., 900., 720., 630., 990., 630.])"
      ]
     },
     "execution_count": 7,
     "metadata": {},
     "output_type": "execute_result"
    }
   ],
   "source": [
    "stage.scanLine([\n",
    "    np.linspace(0,50,6),\n",
    "    np.ones(6)*0,\n",
    "    np.ones(6)*50.,\n",
    "    np.ones(6)*0,\n",
    "],SecondsPerPoint=.01,add_aom=False)"
   ]
  },
  {
   "cell_type": "code",
   "execution_count": 9,
   "metadata": {},
   "outputs": [
    {
     "name": "stdout",
     "output_type": "stream",
     "text": [
      "No task has been created.\n",
      "No task has been created.\n"
     ]
    }
   ],
   "source": [
    "ao_sweep.clear_task()\n",
    "clk.clear_task()"
   ]
  },
  {
   "cell_type": "code",
   "execution_count": 15,
   "metadata": {},
   "outputs": [],
   "source": [
    "a = np.arange(12).reshape((4,3))\n",
    "mask = [False, False, False, False]\n",
    "a[mask] = np.ones((4,3))[mask]\n"
   ]
  },
  {
   "cell_type": "code",
   "execution_count": 5,
   "metadata": {},
   "outputs": [
    {
     "data": {
      "text/plain": [
       "True"
      ]
     },
     "execution_count": 5,
     "metadata": {},
     "output_type": "execute_result"
    }
   ],
   "source": [
    "ao_sweep.task.is_task_done()"
   ]
  },
  {
   "cell_type": "code",
   "execution_count": 7,
   "metadata": {},
   "outputs": [
    {
     "data": {
      "text/plain": [
       "6"
      ]
     },
     "execution_count": 7,
     "metadata": {},
     "output_type": "execute_result"
    }
   ],
   "source": [
    "ao_sweep.samps_per_chan"
   ]
  },
  {
   "cell_type": "code",
   "execution_count": 5,
   "metadata": {},
   "outputs": [
    {
     "data": {
      "text/plain": [
       "<SampleTimingType.ON_DEMAND: 10390>"
      ]
     },
     "execution_count": 5,
     "metadata": {},
     "output_type": "execute_result"
    }
   ],
   "source": [
    "ao_sweep.task.timing.samp_timing_type #= ni.constants.SampleTimingType.ON_DEMAND\n",
    "# clk.task.timing.samp_quant_samp_mode"
   ]
  },
  {
   "cell_type": "code",
   "execution_count": null,
   "metadata": {},
   "outputs": [],
   "source": []
  }
 ],
 "metadata": {
  "kernelspec": {
   "display_name": "pi3",
   "language": "python",
   "name": "python3"
  },
  "language_info": {
   "codemirror_mode": {
    "name": "ipython",
    "version": 3
   },
   "file_extension": ".py",
   "mimetype": "text/x-python",
   "name": "python",
   "nbconvert_exporter": "python",
   "pygments_lexer": "ipython3",
   "version": "3.11.11"
  }
 },
 "nbformat": 4,
 "nbformat_minor": 2
}
