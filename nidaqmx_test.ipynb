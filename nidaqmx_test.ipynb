{
 "cells": [
  {
   "cell_type": "code",
   "execution_count": 1,
   "metadata": {},
   "outputs": [],
   "source": [
    "import nidaqmx as ni\n",
    "import numpy as np\n",
    "from hardware.nidaq import sample_clock, analog_output_sweeper\n",
    "from hardware.api import Scanner"
   ]
  },
  {
   "cell_type": "code",
   "execution_count": 2,
   "metadata": {},
   "outputs": [
    {
     "name": "stdout",
     "output_type": "stream",
     "text": [
      "(4, 1) (4, 1) (4, 1)\n",
      "[[0.5]\n",
      " [0.5]\n",
      " [0.5]\n",
      " [0.5]]\n"
     ]
    }
   ],
   "source": [
    "stage = Scanner()"
   ]
  },
  {
   "cell_type": "code",
   "execution_count": 3,
   "metadata": {},
   "outputs": [
    {
     "name": "stdout",
     "output_type": "stream",
     "text": [
      "(4, 1) (4, 1) (4, 6)\n",
      "[[0.5  0.55 0.6  0.65 0.7  0.75]\n",
      " [0.5  0.5  0.5  0.5  0.5  0.5 ]\n",
      " [0.5  0.5  0.5  0.5  0.5  0.5 ]\n",
      " [0.5  0.5  0.5  0.5  0.5  0.5 ]]\n",
      "(4, 1) (4, 1) (4, 1)\n",
      "[[0.5]\n",
      " [0.5]\n",
      " [0.5]\n",
      " [0.5]]\n"
     ]
    },
    {
     "data": {
      "text/plain": [
       "array([ 630.,  540.,  630.,  540.,  270., 1080.])"
      ]
     },
     "execution_count": 3,
     "metadata": {},
     "output_type": "execute_result"
    }
   ],
   "source": [
    "stage.scanLine([\n",
    "    np.linspace(0,50,6),\n",
    "    np.ones(6)*0,\n",
    "    np.ones(6)*50.,\n",
    "    np.ones(6)*0,\n",
    "],SecondsPerPoint=.01,add_aom=False)"
   ]
  },
  {
   "cell_type": "code",
   "execution_count": null,
   "metadata": {},
   "outputs": [
    {
     "name": "stdout",
     "output_type": "stream",
     "text": [
      "No task has been created.\n",
      "No task has been created.\n"
     ]
    }
   ],
   "source": [
    "stage.ao_task.clear_task()\n",
    "clk.clear_task()"
   ]
  },
  {
   "cell_type": "code",
   "execution_count": 15,
   "metadata": {},
   "outputs": [],
   "source": [
    "a = np.arange(12).reshape((4,3))\n",
    "mask = [False, False, False, False]\n",
    "a[mask] = np.ones((4,3))[mask]\n"
   ]
  },
  {
   "cell_type": "code",
   "execution_count": 6,
   "metadata": {},
   "outputs": [
    {
     "data": {
      "text/plain": [
       "True"
      ]
     },
     "execution_count": 6,
     "metadata": {},
     "output_type": "execute_result"
    }
   ],
   "source": [
    "stage.ao_task.task.is_task_done()"
   ]
  },
  {
   "cell_type": "code",
   "execution_count": 5,
   "metadata": {},
   "outputs": [
    {
     "data": {
      "text/plain": [
       "<SampleTimingType.ON_DEMAND: 10390>"
      ]
     },
     "execution_count": 5,
     "metadata": {},
     "output_type": "execute_result"
    }
   ],
   "source": [
    "stage.ao_task.task.timing.samp_timing_type #= ni.constants.SampleTimingType.ON_DEMAND\n",
    "# clk.task.timing.samp_quant_samp_mode"
   ]
  },
  {
   "cell_type": "code",
   "execution_count": null,
   "metadata": {},
   "outputs": [],
   "source": []
  }
 ],
 "metadata": {
  "kernelspec": {
   "display_name": "pi3",
   "language": "python",
   "name": "python3"
  },
  "language_info": {
   "codemirror_mode": {
    "name": "ipython",
    "version": 3
   },
   "file_extension": ".py",
   "mimetype": "text/x-python",
   "name": "python",
   "nbconvert_exporter": "python",
   "pygments_lexer": "ipython3",
   "version": "3.11.11"
  }
 },
 "nbformat": 4,
 "nbformat_minor": 2
}
